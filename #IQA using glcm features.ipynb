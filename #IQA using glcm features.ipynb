{
 "cells": [
  {
   "cell_type": "markdown",
   "metadata": {},
   "source": [
    "# Import required libraries"
   ]
  },
  {
   "cell_type": "code",
   "execution_count": 4,
   "metadata": {},
   "outputs": [],
   "source": [
    "import numpy as np \n",
    "import matplotlib.pyplot as plt\n",
    "import glob\n",
    "import cv2\n",
    "import os\n",
    "import seaborn as sns\n",
    "import pandas as pd\n",
    "from skimage.filters import sobel\n",
    "from skimage.feature import greycomatrix, greycoprops\n",
    "from skimage.measure import shannon_entropy\n",
    "#import imquality.brisque as brisque\n",
    "images = os.listdir(\"B:/\")\n",
    "#Resize images to\n",
    "SIZE = 800\n"
   ]
  },
  {
   "cell_type": "markdown",
   "metadata": {},
   "source": [
    "# Read training images "
   ]
  },
  {
   "cell_type": "code",
   "execution_count": 5,
   "metadata": {},
   "outputs": [],
   "source": [
    "#Capture images and labels into arrays.\n",
    "#Start by creating empty lists.\n",
    "SIZE = 800\n",
    "train_images = []\n",
    "train_labels = [] \n",
    "#clahe = cv2.createCLAHE(clipLimit=2.5, tileGridSize=(7,7))\n",
    "#for directory_path in glob.glob(\"cell_images/test/*\"): \n",
    "for directory_path in glob.glob(\"B:/small_data/Train/*\"):\n",
    "    label = directory_path.split(\"\\\\\")[-1]\n",
    "    for img_path in glob.glob(os.path.join(directory_path, \"*.jpg\")):\n",
    "        img = cv2.imread(img_path, 0)\n",
    "        img = cv2.resize(img, (SIZE, SIZE))\n",
    "#         b, g, r = cv2.split(img)\n",
    "#         img2 = clahe.apply(g)\n",
    "        train_images.append(img)\n",
    "        train_labels.append(label)\n",
    "        \n",
    "train_images = np.array(train_images)\n",
    "train_labels = np.array(train_labels)"
   ]
  },
  {
   "cell_type": "code",
   "execution_count": 6,
   "metadata": {},
   "outputs": [
    {
     "data": {
      "text/plain": [
       "array([[[0, 0, 0, ..., 0, 0, 0],\n",
       "        [0, 0, 0, ..., 0, 0, 0],\n",
       "        [0, 0, 0, ..., 0, 0, 0],\n",
       "        ...,\n",
       "        [0, 0, 0, ..., 0, 0, 0],\n",
       "        [0, 0, 0, ..., 0, 0, 0],\n",
       "        [0, 0, 0, ..., 0, 0, 0]],\n",
       "\n",
       "       [[0, 0, 0, ..., 0, 0, 0],\n",
       "        [0, 0, 0, ..., 0, 0, 0],\n",
       "        [0, 0, 0, ..., 0, 0, 0],\n",
       "        ...,\n",
       "        [0, 0, 0, ..., 0, 0, 0],\n",
       "        [0, 0, 0, ..., 0, 0, 0],\n",
       "        [0, 0, 0, ..., 0, 0, 0]],\n",
       "\n",
       "       [[0, 0, 0, ..., 0, 0, 0],\n",
       "        [0, 0, 0, ..., 0, 0, 0],\n",
       "        [0, 0, 0, ..., 0, 0, 0],\n",
       "        ...,\n",
       "        [0, 0, 0, ..., 0, 0, 0],\n",
       "        [0, 0, 0, ..., 0, 0, 0],\n",
       "        [0, 0, 0, ..., 0, 0, 0]],\n",
       "\n",
       "       ...,\n",
       "\n",
       "       [[0, 0, 0, ..., 0, 0, 0],\n",
       "        [0, 0, 0, ..., 0, 0, 0],\n",
       "        [0, 0, 0, ..., 0, 0, 0],\n",
       "        ...,\n",
       "        [0, 0, 0, ..., 0, 0, 0],\n",
       "        [0, 0, 1, ..., 0, 0, 0],\n",
       "        [0, 0, 1, ..., 0, 0, 0]],\n",
       "\n",
       "       [[0, 0, 0, ..., 0, 0, 0],\n",
       "        [0, 0, 0, ..., 0, 0, 0],\n",
       "        [0, 0, 0, ..., 0, 0, 0],\n",
       "        ...,\n",
       "        [0, 0, 0, ..., 0, 0, 0],\n",
       "        [0, 0, 0, ..., 0, 0, 0],\n",
       "        [0, 0, 0, ..., 0, 0, 0]],\n",
       "\n",
       "       [[0, 0, 0, ..., 0, 0, 0],\n",
       "        [0, 0, 0, ..., 0, 0, 0],\n",
       "        [0, 0, 0, ..., 0, 0, 0],\n",
       "        ...,\n",
       "        [0, 0, 0, ..., 0, 0, 0],\n",
       "        [0, 0, 0, ..., 0, 0, 0],\n",
       "        [0, 0, 0, ..., 0, 0, 0]]], dtype=uint8)"
      ]
     },
     "execution_count": 6,
     "metadata": {},
     "output_type": "execute_result"
    }
   ],
   "source": [
    "train_images "
   ]
  },
  {
   "cell_type": "code",
   "execution_count": 7,
   "metadata": {},
   "outputs": [
    {
     "data": {
      "text/plain": [
       "72"
      ]
     },
     "execution_count": 7,
     "metadata": {},
     "output_type": "execute_result"
    }
   ],
   "source": [
    "len(train_images)"
   ]
  },
  {
   "cell_type": "markdown",
   "metadata": {},
   "source": [
    "# To classify unknown images, Read images"
   ]
  },
  {
   "cell_type": "code",
   "execution_count": 8,
   "metadata": {},
   "outputs": [],
   "source": [
    "#Capture images and labels into arrays.\n",
    "#Start by creating empty lists.\n",
    "unknown_images = []\n",
    "names = []\n",
    "#for directory_path in glob.glob(\"cell_images/train/*\"):\n",
    "\n",
    "\n",
    "for img_path in glob.glob(os.path.join(\"B:/small_data/Test\", \"*.jpg\")):\n",
    "    print(img_path)\n",
    "    names.append(img_path)\n",
    "    img = cv2.imread(img_path, 0) #Reading color images\n",
    "    img = cv2.resize(img, (SIZE, SIZE)) #Resize images\n",
    "    unknown_images.append(img)\n",
    "    \n",
    "    #train_labels.append(label)\n",
    "        \n",
    "unknown_images = np.array(unknown_images)\n",
    "#train_labels = np.array(train_labels)"
   ]
  },
  {
   "cell_type": "code",
   "execution_count": 9,
   "metadata": {},
   "outputs": [
    {
     "data": {
      "text/plain": [
       "array([], dtype=float64)"
      ]
     },
     "execution_count": 9,
     "metadata": {},
     "output_type": "execute_result"
    }
   ],
   "source": [
    "unknown_images"
   ]
  },
  {
   "cell_type": "code",
   "execution_count": 10,
   "metadata": {},
   "outputs": [],
   "source": [
    "df = pd.DataFrame(names, columns = ['image_name'])\n",
    "df.to_excel('C:/Users/Shraddha Pawar/Desktop/Names_newwst.xlsx')"
   ]
  },
  {
   "cell_type": "markdown",
   "metadata": {},
   "source": [
    "# Read test images"
   ]
  },
  {
   "cell_type": "code",
   "execution_count": 11,
   "metadata": {},
   "outputs": [],
   "source": [
    "#Do exactly the same for test/validation images\n",
    "# test\n",
    "test_images = []\n",
    "test_labels = []\n",
    "#clahe = cv2.createCLAHE(clipLimit=2.5, tileGridSize=(7,7))\n",
    "#for directory_path in glob.glob(\"cell_images/test/*\"): \n",
    "for directory_path in glob.glob(\"B:/small_data/Test/*\"):\n",
    "    label = directory_path.split(\"\\\\\")[-1]\n",
    "    for img_path in glob.glob(os.path.join(directory_path, \"*.jpg\")):\n",
    "        img = cv2.imread(img_path, 0)\n",
    "        img = cv2.resize(img, (SIZE, SIZE))\n",
    "#         b, g, r = cv2.split(img)\n",
    "#         img2 = clahe.apply(g)\n",
    "        test_images.append(img)\n",
    "        test_labels.append(label)\n",
    "        \n",
    "test_images = np.array(test_images)\n",
    "test_labels = np.array(test_labels)"
   ]
  },
  {
   "cell_type": "markdown",
   "metadata": {},
   "source": [
    "# Encode categorical labels as (0,1)"
   ]
  },
  {
   "cell_type": "code",
   "execution_count": 12,
   "metadata": {},
   "outputs": [],
   "source": [
    "#Encode labels from text (folder names) to integers.\n",
    "from sklearn import preprocessing\n",
    "le = preprocessing.LabelEncoder()\n",
    "le.fit(test_labels)\n",
    "test_labels_encoded = le.transform(test_labels)\n",
    "le.fit(train_labels)\n",
    "train_labels_encoded = le.transform(train_labels)"
   ]
  },
  {
   "cell_type": "code",
   "execution_count": 16,
   "metadata": {},
   "outputs": [
    {
     "data": {
      "text/plain": [
       "array(['Good', 'Good', 'Good', 'Good', 'Good', 'Good', 'Good', 'Good',\n",
       "       'Good', 'Good', 'Good', 'Good', 'Good', 'Good', 'Good', 'Good',\n",
       "       'Good', 'Good', 'Good', 'Good', 'Good', 'Good', 'Good', 'Good',\n",
       "       'Good', 'Good', 'Good', 'Good', 'Good', 'Good', 'Good', 'Good',\n",
       "       'Good', 'Good', 'Good', 'Poor', 'Poor', 'Poor', 'Poor', 'Poor',\n",
       "       'Poor', 'Poor', 'Poor', 'Poor', 'Poor', 'Poor', 'Poor', 'Poor',\n",
       "       'Poor', 'Poor', 'Poor', 'Poor', 'Poor', 'Poor', 'Poor', 'Poor',\n",
       "       'Poor', 'Poor', 'Poor', 'Poor', 'Poor', 'Poor', 'Poor', 'Poor',\n",
       "       'Poor', 'Poor', 'Poor', 'Poor', 'Poor', 'Poor', 'Poor', 'Poor'],\n",
       "      dtype='<U4')"
      ]
     },
     "execution_count": 16,
     "metadata": {},
     "output_type": "execute_result"
    }
   ],
   "source": [
    "train_labels"
   ]
  },
  {
   "cell_type": "markdown",
   "metadata": {},
   "source": [
    "# Define train and test images and labels "
   ]
  },
  {
   "cell_type": "code",
   "execution_count": 14,
   "metadata": {},
   "outputs": [],
   "source": [
    "x_train, y_train, x_test, y_test = train_images, train_labels_encoded, test_images, test_labels_encoded"
   ]
  },
  {
   "cell_type": "markdown",
   "metadata": {},
   "source": [
    "# Defin feature extractor function to extract required features"
   ]
  },
  {
   "cell_type": "code",
   "execution_count": 15,
   "metadata": {},
   "outputs": [],
   "source": [
    "# Normalize pixel values to between 0 and 1\n",
    "#x_train, x_test = x_train / 255.0, x_test / 255.0\n",
    "\n",
    "###################################################################\n",
    "# FEATURE EXTRACTOR function\n",
    "# input shape is (n, x, y, c) - number of images, x, y, and channels\n",
    "def feature_extractor(dataset):\n",
    "    image_dataset = pd.DataFrame()\n",
    "    for image in range(dataset.shape[0]):  \n",
    "        #iterate through each file \n",
    "        #print(image)\n",
    "        \n",
    "        df = pd.DataFrame()  \n",
    "        #Temporary data frame to capture information for each loop.\n",
    "        #Reset dataframe to blank after each loop.\n",
    "        \n",
    "        img = dataset[image, :,:]    \n",
    "        #Full image\n",
    "                       \n",
    "        GLCM1 = greycomatrix(img, [1], [0])       \n",
    "        GLCM_Energy1 = greycoprops(GLCM1, 'energy')[0]\n",
    "        df['Energy1'] = GLCM_Energy1\n",
    "        GLCM_corr1 = greycoprops(GLCM1, 'correlation')[0]\n",
    "        df['Corr1'] = GLCM_corr1       \n",
    "        GLCM_diss1 = greycoprops(GLCM1, 'dissimilarity')[0]\n",
    "        df['Diss_sim1'] = GLCM_diss1       \n",
    "        GLCM_hom1 = greycoprops(GLCM1, 'homogeneity')[0]\n",
    "        df['Homogen1'] = GLCM_hom1       \n",
    "        GLCM_contr1 = greycoprops(GLCM1, 'contrast')[0]\n",
    "        df['Contrast1'] = GLCM_contr1\n",
    "\n",
    "        GLCM2 = greycomatrix(img, [1], [np.pi/4])       \n",
    "        GLCM_Energy2 = greycoprops(GLCM2, 'energy')[0]\n",
    "        df['Energy2'] = GLCM_Energy2\n",
    "        GLCM_corr2 = greycoprops(GLCM2, 'correlation')[0]\n",
    "        df['Corr2'] = GLCM_corr2       \n",
    "        GLCM_diss2 = greycoprops(GLCM2, 'dissimilarity')[0]\n",
    "        df['Diss_sim2'] = GLCM_diss2       \n",
    "        GLCM_hom2 = greycoprops(GLCM2, 'homogeneity')[0]\n",
    "        df['Homogen2'] = GLCM_hom2       \n",
    "        GLCM_contr2 = greycoprops(GLCM2, 'contrast')[0]\n",
    "        df['Contrast2'] = GLCM_contr2\n",
    "\n",
    "        GLCM3 = greycomatrix(img, [1], [np.pi/2])       \n",
    "        GLCM_Energy3 = greycoprops(GLCM3, 'energy')[0]\n",
    "        df['Energy3'] = GLCM_Energy3\n",
    "        GLCM_corr3 = greycoprops(GLCM3, 'correlation')[0]\n",
    "        df['Corr3'] = GLCM_corr3       \n",
    "        GLCM_diss3 = greycoprops(GLCM3, 'dissimilarity')[0]\n",
    "        df['Diss_sim3'] = GLCM_diss3       \n",
    "        GLCM_hom3 = greycoprops(GLCM3, 'homogeneity')[0]\n",
    "        df['Homogen3'] = GLCM_hom3       \n",
    "        GLCM_contr3 = greycoprops(GLCM3, 'contrast')[0]\n",
    "        df['Contrast3'] = GLCM_contr3\n",
    "                \n",
    "        GLCM4 = greycomatrix(img, [1], [3*np.pi/4])       \n",
    "        GLCM_Energy4 = greycoprops(GLCM4, 'energy')[0]\n",
    "        df['Energy4'] = GLCM_Energy4\n",
    "        GLCM_corr4 = greycoprops(GLCM4, 'correlation')[0]\n",
    "        df['Corr4'] = GLCM_corr4       \n",
    "        GLCM_diss4 = greycoprops(GLCM4, 'dissimilarity')[0]\n",
    "        df['Diss_sim4'] = GLCM_diss4       \n",
    "        GLCM_hom4 = greycoprops(GLCM4, 'homogeneity')[0]\n",
    "        df['Homogen4'] = GLCM_hom4       \n",
    "        GLCM_contr4 = greycoprops(GLCM4, 'contrast')[0]\n",
    "        df['Contrast4'] = GLCM_contr4\n",
    "                \n",
    "        GLCM5 = greycomatrix(img, [3], [0])       \n",
    "        GLCM_Energy5 = greycoprops(GLCM5, 'energy')[0]\n",
    "        df['Energy5'] = GLCM_Energy5\n",
    "        GLCM_corr5 = greycoprops(GLCM5, 'correlation')[0]\n",
    "        df['Corr5'] = GLCM_corr5       \n",
    "        GLCM_diss5 = greycoprops(GLCM5, 'dissimilarity')[0]\n",
    "        df['Diss_sim5'] = GLCM_diss5       \n",
    "        GLCM_hom5 = greycoprops(GLCM5, 'homogeneity')[0]\n",
    "        df['Homogen5'] = GLCM_hom5      \n",
    "        GLCM_contr5 = greycoprops(GLCM5, 'contrast')[0]\n",
    "        df['Contrast5'] = GLCM_contr5\n",
    "               \n",
    "        GLCM6 = greycomatrix(img, [3], [np.pi/2])       \n",
    "        GLCM_Energy6 = greycoprops(GLCM6, 'energy')[0]\n",
    "        df['Energy6'] = GLCM_Energy6\n",
    "        GLCM_corr6 = greycoprops(GLCM6, 'correlation')[0]\n",
    "        df['Corr6'] = GLCM_corr6       \n",
    "        GLCM_diss6 = greycoprops(GLCM6, 'dissimilarity')[0]\n",
    "        df['Diss_sim6'] = GLCM_diss6       \n",
    "        GLCM_hom6 = greycoprops(GLCM6, 'homogeneity')[0]\n",
    "        df['Homogen6'] = GLCM_hom6      \n",
    "        GLCM_contr6 = greycoprops(GLCM6, 'contrast')[0]\n",
    "        df['Contrast6'] = GLCM_contr6       \n",
    "        \n",
    "        laplacian_var = cv2.Laplacian(img, cv2.CV_64F).var() \n",
    "        df['laplacian'] = laplacian_var\n",
    "        #b = brisque.score(img)\n",
    "        #df['brisque'] = b\n",
    "        \n",
    "        #Add more filters as needed\n",
    "        entropy = shannon_entropy(img)\n",
    "        df['Entropy'] = entropy\n",
    "\n",
    "        #Append features from current image to the dataset\n",
    "        image_dataset = image_dataset.append(df)\n",
    "        \n",
    "    return image_dataset"
   ]
  },
  {
   "cell_type": "markdown",
   "metadata": {},
   "source": [
    "# Extract features from training set"
   ]
  },
  {
   "cell_type": "code",
   "execution_count": 40,
   "metadata": {},
   "outputs": [],
   "source": [
    "image_features = feature_extractor(x_train)\n",
    "X_for_ML = image_features"
   ]
  },
  {
   "cell_type": "code",
   "execution_count": 41,
   "metadata": {},
   "outputs": [
    {
     "data": {
      "text/html": [
       "<div>\n",
       "<style scoped>\n",
       "    .dataframe tbody tr th:only-of-type {\n",
       "        vertical-align: middle;\n",
       "    }\n",
       "\n",
       "    .dataframe tbody tr th {\n",
       "        vertical-align: top;\n",
       "    }\n",
       "\n",
       "    .dataframe thead th {\n",
       "        text-align: right;\n",
       "    }\n",
       "</style>\n",
       "<table border=\"1\" class=\"dataframe\">\n",
       "  <thead>\n",
       "    <tr style=\"text-align: right;\">\n",
       "      <th></th>\n",
       "      <th>Energy1</th>\n",
       "      <th>Corr1</th>\n",
       "      <th>Diss_sim1</th>\n",
       "      <th>Homogen1</th>\n",
       "      <th>Contrast1</th>\n",
       "      <th>Energy2</th>\n",
       "      <th>Corr2</th>\n",
       "      <th>Diss_sim2</th>\n",
       "      <th>Homogen2</th>\n",
       "      <th>Contrast2</th>\n",
       "      <th>...</th>\n",
       "      <th>Diss_sim5</th>\n",
       "      <th>Homogen5</th>\n",
       "      <th>Contrast5</th>\n",
       "      <th>Energy6</th>\n",
       "      <th>Corr6</th>\n",
       "      <th>Diss_sim6</th>\n",
       "      <th>Homogen6</th>\n",
       "      <th>Contrast6</th>\n",
       "      <th>laplacian</th>\n",
       "      <th>Entropy</th>\n",
       "    </tr>\n",
       "  </thead>\n",
       "  <tbody>\n",
       "    <tr>\n",
       "      <th>0</th>\n",
       "      <td>0.084539</td>\n",
       "      <td>0.998088</td>\n",
       "      <td>1.803176</td>\n",
       "      <td>0.503756</td>\n",
       "      <td>15.330695</td>\n",
       "      <td>0.082396</td>\n",
       "      <td>0.997491</td>\n",
       "      <td>2.077473</td>\n",
       "      <td>0.467445</td>\n",
       "      <td>20.082458</td>\n",
       "      <td>...</td>\n",
       "      <td>3.876321</td>\n",
       "      <td>0.368274</td>\n",
       "      <td>103.945232</td>\n",
       "      <td>0.079474</td>\n",
       "      <td>0.995903</td>\n",
       "      <td>2.761796</td>\n",
       "      <td>0.410849</td>\n",
       "      <td>32.870852</td>\n",
       "      <td>17.794227</td>\n",
       "      <td>6.414118</td>\n",
       "    </tr>\n",
       "    <tr>\n",
       "      <th>0</th>\n",
       "      <td>0.090452</td>\n",
       "      <td>0.997194</td>\n",
       "      <td>2.091757</td>\n",
       "      <td>0.455787</td>\n",
       "      <td>15.402717</td>\n",
       "      <td>0.089019</td>\n",
       "      <td>0.996264</td>\n",
       "      <td>2.413308</td>\n",
       "      <td>0.419336</td>\n",
       "      <td>20.471437</td>\n",
       "      <td>...</td>\n",
       "      <td>4.333314</td>\n",
       "      <td>0.334158</td>\n",
       "      <td>97.163443</td>\n",
       "      <td>0.087428</td>\n",
       "      <td>0.993184</td>\n",
       "      <td>3.311597</td>\n",
       "      <td>0.364024</td>\n",
       "      <td>37.436719</td>\n",
       "      <td>25.426821</td>\n",
       "      <td>6.443762</td>\n",
       "    </tr>\n",
       "    <tr>\n",
       "      <th>0</th>\n",
       "      <td>0.066531</td>\n",
       "      <td>0.998215</td>\n",
       "      <td>1.689047</td>\n",
       "      <td>0.506649</td>\n",
       "      <td>10.253509</td>\n",
       "      <td>0.064031</td>\n",
       "      <td>0.997628</td>\n",
       "      <td>1.989753</td>\n",
       "      <td>0.459853</td>\n",
       "      <td>13.604556</td>\n",
       "      <td>...</td>\n",
       "      <td>3.585836</td>\n",
       "      <td>0.357441</td>\n",
       "      <td>65.511937</td>\n",
       "      <td>0.061318</td>\n",
       "      <td>0.995759</td>\n",
       "      <td>2.699062</td>\n",
       "      <td>0.397300</td>\n",
       "      <td>24.387400</td>\n",
       "      <td>15.790216</td>\n",
       "      <td>6.772853</td>\n",
       "    </tr>\n",
       "    <tr>\n",
       "      <th>0</th>\n",
       "      <td>0.205228</td>\n",
       "      <td>0.997714</td>\n",
       "      <td>1.762622</td>\n",
       "      <td>0.512717</td>\n",
       "      <td>12.299593</td>\n",
       "      <td>0.203759</td>\n",
       "      <td>0.996212</td>\n",
       "      <td>2.204199</td>\n",
       "      <td>0.471642</td>\n",
       "      <td>20.338807</td>\n",
       "      <td>...</td>\n",
       "      <td>3.200638</td>\n",
       "      <td>0.426768</td>\n",
       "      <td>51.452200</td>\n",
       "      <td>0.201615</td>\n",
       "      <td>0.990490</td>\n",
       "      <td>3.244183</td>\n",
       "      <td>0.423931</td>\n",
       "      <td>50.989264</td>\n",
       "      <td>54.626895</td>\n",
       "      <td>6.167062</td>\n",
       "    </tr>\n",
       "    <tr>\n",
       "      <th>0</th>\n",
       "      <td>0.205924</td>\n",
       "      <td>0.997514</td>\n",
       "      <td>1.821061</td>\n",
       "      <td>0.500469</td>\n",
       "      <td>11.272785</td>\n",
       "      <td>0.204543</td>\n",
       "      <td>0.995872</td>\n",
       "      <td>2.187772</td>\n",
       "      <td>0.469457</td>\n",
       "      <td>18.687117</td>\n",
       "      <td>...</td>\n",
       "      <td>3.003977</td>\n",
       "      <td>0.435271</td>\n",
       "      <td>44.537164</td>\n",
       "      <td>0.202444</td>\n",
       "      <td>0.990023</td>\n",
       "      <td>3.092491</td>\n",
       "      <td>0.431072</td>\n",
       "      <td>45.108109</td>\n",
       "      <td>55.850830</td>\n",
       "      <td>5.953745</td>\n",
       "    </tr>\n",
       "    <tr>\n",
       "      <th>...</th>\n",
       "      <td>...</td>\n",
       "      <td>...</td>\n",
       "      <td>...</td>\n",
       "      <td>...</td>\n",
       "      <td>...</td>\n",
       "      <td>...</td>\n",
       "      <td>...</td>\n",
       "      <td>...</td>\n",
       "      <td>...</td>\n",
       "      <td>...</td>\n",
       "      <td>...</td>\n",
       "      <td>...</td>\n",
       "      <td>...</td>\n",
       "      <td>...</td>\n",
       "      <td>...</td>\n",
       "      <td>...</td>\n",
       "      <td>...</td>\n",
       "      <td>...</td>\n",
       "      <td>...</td>\n",
       "      <td>...</td>\n",
       "      <td>...</td>\n",
       "    </tr>\n",
       "    <tr>\n",
       "      <th>0</th>\n",
       "      <td>0.170953</td>\n",
       "      <td>0.996492</td>\n",
       "      <td>1.826119</td>\n",
       "      <td>0.518386</td>\n",
       "      <td>30.274689</td>\n",
       "      <td>0.167369</td>\n",
       "      <td>0.993864</td>\n",
       "      <td>2.212791</td>\n",
       "      <td>0.484655</td>\n",
       "      <td>52.804128</td>\n",
       "      <td>...</td>\n",
       "      <td>3.175630</td>\n",
       "      <td>0.445039</td>\n",
       "      <td>140.865957</td>\n",
       "      <td>0.160506</td>\n",
       "      <td>0.983896</td>\n",
       "      <td>3.179239</td>\n",
       "      <td>0.443672</td>\n",
       "      <td>138.247640</td>\n",
       "      <td>117.055218</td>\n",
       "      <td>5.957681</td>\n",
       "    </tr>\n",
       "    <tr>\n",
       "      <th>0</th>\n",
       "      <td>0.205227</td>\n",
       "      <td>0.994861</td>\n",
       "      <td>1.776047</td>\n",
       "      <td>0.515405</td>\n",
       "      <td>17.704060</td>\n",
       "      <td>0.203824</td>\n",
       "      <td>0.991757</td>\n",
       "      <td>2.121139</td>\n",
       "      <td>0.484931</td>\n",
       "      <td>28.350342</td>\n",
       "      <td>...</td>\n",
       "      <td>2.929067</td>\n",
       "      <td>0.450599</td>\n",
       "      <td>67.781043</td>\n",
       "      <td>0.201621</td>\n",
       "      <td>0.978371</td>\n",
       "      <td>3.003493</td>\n",
       "      <td>0.445500</td>\n",
       "      <td>74.269490</td>\n",
       "      <td>90.926907</td>\n",
       "      <td>6.003966</td>\n",
       "    </tr>\n",
       "    <tr>\n",
       "      <th>0</th>\n",
       "      <td>0.069540</td>\n",
       "      <td>0.999016</td>\n",
       "      <td>1.565297</td>\n",
       "      <td>0.524975</td>\n",
       "      <td>7.227109</td>\n",
       "      <td>0.065991</td>\n",
       "      <td>0.998501</td>\n",
       "      <td>1.970581</td>\n",
       "      <td>0.458715</td>\n",
       "      <td>10.993622</td>\n",
       "      <td>...</td>\n",
       "      <td>3.575220</td>\n",
       "      <td>0.363881</td>\n",
       "      <td>49.344608</td>\n",
       "      <td>0.061761</td>\n",
       "      <td>0.996874</td>\n",
       "      <td>2.888874</td>\n",
       "      <td>0.385537</td>\n",
       "      <td>23.015210</td>\n",
       "      <td>12.832071</td>\n",
       "      <td>6.662305</td>\n",
       "    </tr>\n",
       "    <tr>\n",
       "      <th>0</th>\n",
       "      <td>0.059218</td>\n",
       "      <td>0.998442</td>\n",
       "      <td>1.681887</td>\n",
       "      <td>0.515466</td>\n",
       "      <td>10.499315</td>\n",
       "      <td>0.056787</td>\n",
       "      <td>0.997861</td>\n",
       "      <td>1.991228</td>\n",
       "      <td>0.464180</td>\n",
       "      <td>14.395986</td>\n",
       "      <td>...</td>\n",
       "      <td>3.777172</td>\n",
       "      <td>0.346665</td>\n",
       "      <td>74.564399</td>\n",
       "      <td>0.053593</td>\n",
       "      <td>0.996531</td>\n",
       "      <td>2.696509</td>\n",
       "      <td>0.402891</td>\n",
       "      <td>23.437124</td>\n",
       "      <td>13.360227</td>\n",
       "      <td>7.172604</td>\n",
       "    </tr>\n",
       "    <tr>\n",
       "      <th>0</th>\n",
       "      <td>0.202741</td>\n",
       "      <td>0.997551</td>\n",
       "      <td>1.217635</td>\n",
       "      <td>0.630019</td>\n",
       "      <td>17.390632</td>\n",
       "      <td>0.200636</td>\n",
       "      <td>0.995110</td>\n",
       "      <td>1.573530</td>\n",
       "      <td>0.579774</td>\n",
       "      <td>34.626410</td>\n",
       "      <td>...</td>\n",
       "      <td>2.363719</td>\n",
       "      <td>0.526401</td>\n",
       "      <td>83.128311</td>\n",
       "      <td>0.197980</td>\n",
       "      <td>0.986470</td>\n",
       "      <td>2.367128</td>\n",
       "      <td>0.539945</td>\n",
       "      <td>95.585952</td>\n",
       "      <td>72.345328</td>\n",
       "      <td>5.734637</td>\n",
       "    </tr>\n",
       "  </tbody>\n",
       "</table>\n",
       "<p>72 rows × 32 columns</p>\n",
       "</div>"
      ],
      "text/plain": [
       "     Energy1     Corr1  Diss_sim1  Homogen1  Contrast1   Energy2     Corr2  \\\n",
       "0   0.084539  0.998088   1.803176  0.503756  15.330695  0.082396  0.997491   \n",
       "0   0.090452  0.997194   2.091757  0.455787  15.402717  0.089019  0.996264   \n",
       "0   0.066531  0.998215   1.689047  0.506649  10.253509  0.064031  0.997628   \n",
       "0   0.205228  0.997714   1.762622  0.512717  12.299593  0.203759  0.996212   \n",
       "0   0.205924  0.997514   1.821061  0.500469  11.272785  0.204543  0.995872   \n",
       "..       ...       ...        ...       ...        ...       ...       ...   \n",
       "0   0.170953  0.996492   1.826119  0.518386  30.274689  0.167369  0.993864   \n",
       "0   0.205227  0.994861   1.776047  0.515405  17.704060  0.203824  0.991757   \n",
       "0   0.069540  0.999016   1.565297  0.524975   7.227109  0.065991  0.998501   \n",
       "0   0.059218  0.998442   1.681887  0.515466  10.499315  0.056787  0.997861   \n",
       "0   0.202741  0.997551   1.217635  0.630019  17.390632  0.200636  0.995110   \n",
       "\n",
       "    Diss_sim2  Homogen2  Contrast2  ...  Diss_sim5  Homogen5   Contrast5  \\\n",
       "0    2.077473  0.467445  20.082458  ...   3.876321  0.368274  103.945232   \n",
       "0    2.413308  0.419336  20.471437  ...   4.333314  0.334158   97.163443   \n",
       "0    1.989753  0.459853  13.604556  ...   3.585836  0.357441   65.511937   \n",
       "0    2.204199  0.471642  20.338807  ...   3.200638  0.426768   51.452200   \n",
       "0    2.187772  0.469457  18.687117  ...   3.003977  0.435271   44.537164   \n",
       "..        ...       ...        ...  ...        ...       ...         ...   \n",
       "0    2.212791  0.484655  52.804128  ...   3.175630  0.445039  140.865957   \n",
       "0    2.121139  0.484931  28.350342  ...   2.929067  0.450599   67.781043   \n",
       "0    1.970581  0.458715  10.993622  ...   3.575220  0.363881   49.344608   \n",
       "0    1.991228  0.464180  14.395986  ...   3.777172  0.346665   74.564399   \n",
       "0    1.573530  0.579774  34.626410  ...   2.363719  0.526401   83.128311   \n",
       "\n",
       "     Energy6     Corr6  Diss_sim6  Homogen6   Contrast6   laplacian   Entropy  \n",
       "0   0.079474  0.995903   2.761796  0.410849   32.870852   17.794227  6.414118  \n",
       "0   0.087428  0.993184   3.311597  0.364024   37.436719   25.426821  6.443762  \n",
       "0   0.061318  0.995759   2.699062  0.397300   24.387400   15.790216  6.772853  \n",
       "0   0.201615  0.990490   3.244183  0.423931   50.989264   54.626895  6.167062  \n",
       "0   0.202444  0.990023   3.092491  0.431072   45.108109   55.850830  5.953745  \n",
       "..       ...       ...        ...       ...         ...         ...       ...  \n",
       "0   0.160506  0.983896   3.179239  0.443672  138.247640  117.055218  5.957681  \n",
       "0   0.201621  0.978371   3.003493  0.445500   74.269490   90.926907  6.003966  \n",
       "0   0.061761  0.996874   2.888874  0.385537   23.015210   12.832071  6.662305  \n",
       "0   0.053593  0.996531   2.696509  0.402891   23.437124   13.360227  7.172604  \n",
       "0   0.197980  0.986470   2.367128  0.539945   95.585952   72.345328  5.734637  \n",
       "\n",
       "[72 rows x 32 columns]"
      ]
     },
     "execution_count": 41,
     "metadata": {},
     "output_type": "execute_result"
    }
   ],
   "source": [
    "image_features"
   ]
  },
  {
   "cell_type": "code",
   "execution_count": 42,
   "metadata": {},
   "outputs": [
    {
     "data": {
      "text/html": [
       "<div>\n",
       "<style scoped>\n",
       "    .dataframe tbody tr th:only-of-type {\n",
       "        vertical-align: middle;\n",
       "    }\n",
       "\n",
       "    .dataframe tbody tr th {\n",
       "        vertical-align: top;\n",
       "    }\n",
       "\n",
       "    .dataframe thead th {\n",
       "        text-align: right;\n",
       "    }\n",
       "</style>\n",
       "<table border=\"1\" class=\"dataframe\">\n",
       "  <thead>\n",
       "    <tr style=\"text-align: right;\">\n",
       "      <th></th>\n",
       "      <th>Energy1</th>\n",
       "      <th>Corr1</th>\n",
       "      <th>Diss_sim1</th>\n",
       "      <th>Homogen1</th>\n",
       "      <th>Contrast1</th>\n",
       "      <th>Energy2</th>\n",
       "      <th>Corr2</th>\n",
       "      <th>Diss_sim2</th>\n",
       "      <th>Homogen2</th>\n",
       "      <th>Contrast2</th>\n",
       "      <th>...</th>\n",
       "      <th>Diss_sim5</th>\n",
       "      <th>Homogen5</th>\n",
       "      <th>Contrast5</th>\n",
       "      <th>Energy6</th>\n",
       "      <th>Corr6</th>\n",
       "      <th>Diss_sim6</th>\n",
       "      <th>Homogen6</th>\n",
       "      <th>Contrast6</th>\n",
       "      <th>laplacian</th>\n",
       "      <th>Entropy</th>\n",
       "    </tr>\n",
       "  </thead>\n",
       "  <tbody>\n",
       "    <tr>\n",
       "      <th>0</th>\n",
       "      <td>0.084539</td>\n",
       "      <td>0.998088</td>\n",
       "      <td>1.803176</td>\n",
       "      <td>0.503756</td>\n",
       "      <td>15.330695</td>\n",
       "      <td>0.082396</td>\n",
       "      <td>0.997491</td>\n",
       "      <td>2.077473</td>\n",
       "      <td>0.467445</td>\n",
       "      <td>20.082458</td>\n",
       "      <td>...</td>\n",
       "      <td>3.876321</td>\n",
       "      <td>0.368274</td>\n",
       "      <td>103.945232</td>\n",
       "      <td>0.079474</td>\n",
       "      <td>0.995903</td>\n",
       "      <td>2.761796</td>\n",
       "      <td>0.410849</td>\n",
       "      <td>32.870852</td>\n",
       "      <td>17.794227</td>\n",
       "      <td>6.414118</td>\n",
       "    </tr>\n",
       "    <tr>\n",
       "      <th>0</th>\n",
       "      <td>0.090452</td>\n",
       "      <td>0.997194</td>\n",
       "      <td>2.091757</td>\n",
       "      <td>0.455787</td>\n",
       "      <td>15.402717</td>\n",
       "      <td>0.089019</td>\n",
       "      <td>0.996264</td>\n",
       "      <td>2.413308</td>\n",
       "      <td>0.419336</td>\n",
       "      <td>20.471437</td>\n",
       "      <td>...</td>\n",
       "      <td>4.333314</td>\n",
       "      <td>0.334158</td>\n",
       "      <td>97.163443</td>\n",
       "      <td>0.087428</td>\n",
       "      <td>0.993184</td>\n",
       "      <td>3.311597</td>\n",
       "      <td>0.364024</td>\n",
       "      <td>37.436719</td>\n",
       "      <td>25.426821</td>\n",
       "      <td>6.443762</td>\n",
       "    </tr>\n",
       "    <tr>\n",
       "      <th>0</th>\n",
       "      <td>0.066531</td>\n",
       "      <td>0.998215</td>\n",
       "      <td>1.689047</td>\n",
       "      <td>0.506649</td>\n",
       "      <td>10.253509</td>\n",
       "      <td>0.064031</td>\n",
       "      <td>0.997628</td>\n",
       "      <td>1.989753</td>\n",
       "      <td>0.459853</td>\n",
       "      <td>13.604556</td>\n",
       "      <td>...</td>\n",
       "      <td>3.585836</td>\n",
       "      <td>0.357441</td>\n",
       "      <td>65.511937</td>\n",
       "      <td>0.061318</td>\n",
       "      <td>0.995759</td>\n",
       "      <td>2.699062</td>\n",
       "      <td>0.397300</td>\n",
       "      <td>24.387400</td>\n",
       "      <td>15.790216</td>\n",
       "      <td>6.772853</td>\n",
       "    </tr>\n",
       "    <tr>\n",
       "      <th>0</th>\n",
       "      <td>0.205228</td>\n",
       "      <td>0.997714</td>\n",
       "      <td>1.762622</td>\n",
       "      <td>0.512717</td>\n",
       "      <td>12.299593</td>\n",
       "      <td>0.203759</td>\n",
       "      <td>0.996212</td>\n",
       "      <td>2.204199</td>\n",
       "      <td>0.471642</td>\n",
       "      <td>20.338807</td>\n",
       "      <td>...</td>\n",
       "      <td>3.200638</td>\n",
       "      <td>0.426768</td>\n",
       "      <td>51.452200</td>\n",
       "      <td>0.201615</td>\n",
       "      <td>0.990490</td>\n",
       "      <td>3.244183</td>\n",
       "      <td>0.423931</td>\n",
       "      <td>50.989264</td>\n",
       "      <td>54.626895</td>\n",
       "      <td>6.167062</td>\n",
       "    </tr>\n",
       "    <tr>\n",
       "      <th>0</th>\n",
       "      <td>0.205924</td>\n",
       "      <td>0.997514</td>\n",
       "      <td>1.821061</td>\n",
       "      <td>0.500469</td>\n",
       "      <td>11.272785</td>\n",
       "      <td>0.204543</td>\n",
       "      <td>0.995872</td>\n",
       "      <td>2.187772</td>\n",
       "      <td>0.469457</td>\n",
       "      <td>18.687117</td>\n",
       "      <td>...</td>\n",
       "      <td>3.003977</td>\n",
       "      <td>0.435271</td>\n",
       "      <td>44.537164</td>\n",
       "      <td>0.202444</td>\n",
       "      <td>0.990023</td>\n",
       "      <td>3.092491</td>\n",
       "      <td>0.431072</td>\n",
       "      <td>45.108109</td>\n",
       "      <td>55.850830</td>\n",
       "      <td>5.953745</td>\n",
       "    </tr>\n",
       "    <tr>\n",
       "      <th>...</th>\n",
       "      <td>...</td>\n",
       "      <td>...</td>\n",
       "      <td>...</td>\n",
       "      <td>...</td>\n",
       "      <td>...</td>\n",
       "      <td>...</td>\n",
       "      <td>...</td>\n",
       "      <td>...</td>\n",
       "      <td>...</td>\n",
       "      <td>...</td>\n",
       "      <td>...</td>\n",
       "      <td>...</td>\n",
       "      <td>...</td>\n",
       "      <td>...</td>\n",
       "      <td>...</td>\n",
       "      <td>...</td>\n",
       "      <td>...</td>\n",
       "      <td>...</td>\n",
       "      <td>...</td>\n",
       "      <td>...</td>\n",
       "      <td>...</td>\n",
       "    </tr>\n",
       "    <tr>\n",
       "      <th>0</th>\n",
       "      <td>0.170953</td>\n",
       "      <td>0.996492</td>\n",
       "      <td>1.826119</td>\n",
       "      <td>0.518386</td>\n",
       "      <td>30.274689</td>\n",
       "      <td>0.167369</td>\n",
       "      <td>0.993864</td>\n",
       "      <td>2.212791</td>\n",
       "      <td>0.484655</td>\n",
       "      <td>52.804128</td>\n",
       "      <td>...</td>\n",
       "      <td>3.175630</td>\n",
       "      <td>0.445039</td>\n",
       "      <td>140.865957</td>\n",
       "      <td>0.160506</td>\n",
       "      <td>0.983896</td>\n",
       "      <td>3.179239</td>\n",
       "      <td>0.443672</td>\n",
       "      <td>138.247640</td>\n",
       "      <td>117.055218</td>\n",
       "      <td>5.957681</td>\n",
       "    </tr>\n",
       "    <tr>\n",
       "      <th>0</th>\n",
       "      <td>0.205227</td>\n",
       "      <td>0.994861</td>\n",
       "      <td>1.776047</td>\n",
       "      <td>0.515405</td>\n",
       "      <td>17.704060</td>\n",
       "      <td>0.203824</td>\n",
       "      <td>0.991757</td>\n",
       "      <td>2.121139</td>\n",
       "      <td>0.484931</td>\n",
       "      <td>28.350342</td>\n",
       "      <td>...</td>\n",
       "      <td>2.929067</td>\n",
       "      <td>0.450599</td>\n",
       "      <td>67.781043</td>\n",
       "      <td>0.201621</td>\n",
       "      <td>0.978371</td>\n",
       "      <td>3.003493</td>\n",
       "      <td>0.445500</td>\n",
       "      <td>74.269490</td>\n",
       "      <td>90.926907</td>\n",
       "      <td>6.003966</td>\n",
       "    </tr>\n",
       "    <tr>\n",
       "      <th>0</th>\n",
       "      <td>0.069540</td>\n",
       "      <td>0.999016</td>\n",
       "      <td>1.565297</td>\n",
       "      <td>0.524975</td>\n",
       "      <td>7.227109</td>\n",
       "      <td>0.065991</td>\n",
       "      <td>0.998501</td>\n",
       "      <td>1.970581</td>\n",
       "      <td>0.458715</td>\n",
       "      <td>10.993622</td>\n",
       "      <td>...</td>\n",
       "      <td>3.575220</td>\n",
       "      <td>0.363881</td>\n",
       "      <td>49.344608</td>\n",
       "      <td>0.061761</td>\n",
       "      <td>0.996874</td>\n",
       "      <td>2.888874</td>\n",
       "      <td>0.385537</td>\n",
       "      <td>23.015210</td>\n",
       "      <td>12.832071</td>\n",
       "      <td>6.662305</td>\n",
       "    </tr>\n",
       "    <tr>\n",
       "      <th>0</th>\n",
       "      <td>0.059218</td>\n",
       "      <td>0.998442</td>\n",
       "      <td>1.681887</td>\n",
       "      <td>0.515466</td>\n",
       "      <td>10.499315</td>\n",
       "      <td>0.056787</td>\n",
       "      <td>0.997861</td>\n",
       "      <td>1.991228</td>\n",
       "      <td>0.464180</td>\n",
       "      <td>14.395986</td>\n",
       "      <td>...</td>\n",
       "      <td>3.777172</td>\n",
       "      <td>0.346665</td>\n",
       "      <td>74.564399</td>\n",
       "      <td>0.053593</td>\n",
       "      <td>0.996531</td>\n",
       "      <td>2.696509</td>\n",
       "      <td>0.402891</td>\n",
       "      <td>23.437124</td>\n",
       "      <td>13.360227</td>\n",
       "      <td>7.172604</td>\n",
       "    </tr>\n",
       "    <tr>\n",
       "      <th>0</th>\n",
       "      <td>0.202741</td>\n",
       "      <td>0.997551</td>\n",
       "      <td>1.217635</td>\n",
       "      <td>0.630019</td>\n",
       "      <td>17.390632</td>\n",
       "      <td>0.200636</td>\n",
       "      <td>0.995110</td>\n",
       "      <td>1.573530</td>\n",
       "      <td>0.579774</td>\n",
       "      <td>34.626410</td>\n",
       "      <td>...</td>\n",
       "      <td>2.363719</td>\n",
       "      <td>0.526401</td>\n",
       "      <td>83.128311</td>\n",
       "      <td>0.197980</td>\n",
       "      <td>0.986470</td>\n",
       "      <td>2.367128</td>\n",
       "      <td>0.539945</td>\n",
       "      <td>95.585952</td>\n",
       "      <td>72.345328</td>\n",
       "      <td>5.734637</td>\n",
       "    </tr>\n",
       "  </tbody>\n",
       "</table>\n",
       "<p>72 rows × 32 columns</p>\n",
       "</div>"
      ],
      "text/plain": [
       "     Energy1     Corr1  Diss_sim1  Homogen1  Contrast1   Energy2     Corr2  \\\n",
       "0   0.084539  0.998088   1.803176  0.503756  15.330695  0.082396  0.997491   \n",
       "0   0.090452  0.997194   2.091757  0.455787  15.402717  0.089019  0.996264   \n",
       "0   0.066531  0.998215   1.689047  0.506649  10.253509  0.064031  0.997628   \n",
       "0   0.205228  0.997714   1.762622  0.512717  12.299593  0.203759  0.996212   \n",
       "0   0.205924  0.997514   1.821061  0.500469  11.272785  0.204543  0.995872   \n",
       "..       ...       ...        ...       ...        ...       ...       ...   \n",
       "0   0.170953  0.996492   1.826119  0.518386  30.274689  0.167369  0.993864   \n",
       "0   0.205227  0.994861   1.776047  0.515405  17.704060  0.203824  0.991757   \n",
       "0   0.069540  0.999016   1.565297  0.524975   7.227109  0.065991  0.998501   \n",
       "0   0.059218  0.998442   1.681887  0.515466  10.499315  0.056787  0.997861   \n",
       "0   0.202741  0.997551   1.217635  0.630019  17.390632  0.200636  0.995110   \n",
       "\n",
       "    Diss_sim2  Homogen2  Contrast2  ...  Diss_sim5  Homogen5   Contrast5  \\\n",
       "0    2.077473  0.467445  20.082458  ...   3.876321  0.368274  103.945232   \n",
       "0    2.413308  0.419336  20.471437  ...   4.333314  0.334158   97.163443   \n",
       "0    1.989753  0.459853  13.604556  ...   3.585836  0.357441   65.511937   \n",
       "0    2.204199  0.471642  20.338807  ...   3.200638  0.426768   51.452200   \n",
       "0    2.187772  0.469457  18.687117  ...   3.003977  0.435271   44.537164   \n",
       "..        ...       ...        ...  ...        ...       ...         ...   \n",
       "0    2.212791  0.484655  52.804128  ...   3.175630  0.445039  140.865957   \n",
       "0    2.121139  0.484931  28.350342  ...   2.929067  0.450599   67.781043   \n",
       "0    1.970581  0.458715  10.993622  ...   3.575220  0.363881   49.344608   \n",
       "0    1.991228  0.464180  14.395986  ...   3.777172  0.346665   74.564399   \n",
       "0    1.573530  0.579774  34.626410  ...   2.363719  0.526401   83.128311   \n",
       "\n",
       "     Energy6     Corr6  Diss_sim6  Homogen6   Contrast6   laplacian   Entropy  \n",
       "0   0.079474  0.995903   2.761796  0.410849   32.870852   17.794227  6.414118  \n",
       "0   0.087428  0.993184   3.311597  0.364024   37.436719   25.426821  6.443762  \n",
       "0   0.061318  0.995759   2.699062  0.397300   24.387400   15.790216  6.772853  \n",
       "0   0.201615  0.990490   3.244183  0.423931   50.989264   54.626895  6.167062  \n",
       "0   0.202444  0.990023   3.092491  0.431072   45.108109   55.850830  5.953745  \n",
       "..       ...       ...        ...       ...         ...         ...       ...  \n",
       "0   0.160506  0.983896   3.179239  0.443672  138.247640  117.055218  5.957681  \n",
       "0   0.201621  0.978371   3.003493  0.445500   74.269490   90.926907  6.003966  \n",
       "0   0.061761  0.996874   2.888874  0.385537   23.015210   12.832071  6.662305  \n",
       "0   0.053593  0.996531   2.696509  0.402891   23.437124   13.360227  7.172604  \n",
       "0   0.197980  0.986470   2.367128  0.539945   95.585952   72.345328  5.734637  \n",
       "\n",
       "[72 rows x 32 columns]"
      ]
     },
     "execution_count": 42,
     "metadata": {},
     "output_type": "execute_result"
    }
   ],
   "source": [
    "image_features"
   ]
  },
  {
   "cell_type": "markdown",
   "metadata": {},
   "source": [
    "# train the lightgbm classifier "
   ]
  },
  {
   "cell_type": "code",
   "execution_count": 48,
   "metadata": {},
   "outputs": [
    {
     "name": "stdout",
     "output_type": "stream",
     "text": [
      "[LightGBM] [Warning] Auto-choosing col-wise multi-threading, the overhead of testing was 0.000244 seconds.\n",
      "You can set `force_col_wise=true` to remove the overhead.\n",
      "[LightGBM] [Info] Total Bins 800\n",
      "[LightGBM] [Info] Number of data points in the train set: 72, number of used features: 32\n",
      "[LightGBM] [Info] Start training from score -0.721318\n",
      "[LightGBM] [Info] Start training from score -0.665748\n",
      "[LightGBM] [Info] Start training from score -34.538776\n",
      "[LightGBM] [Info] Start training from score -34.538776\n",
      "[LightGBM] [Warning] No further splits with positive gain, best gain: -inf\n",
      "[LightGBM] [Warning] No further splits with positive gain, best gain: -inf\n",
      "[LightGBM] [Warning] No further splits with positive gain, best gain: -inf\n",
      "[LightGBM] [Warning] No further splits with positive gain, best gain: -inf\n",
      "[LightGBM] [Warning] No further splits with positive gain, best gain: -inf\n",
      "[LightGBM] [Warning] No further splits with positive gain, best gain: -inf\n",
      "[LightGBM] [Warning] No further splits with positive gain, best gain: -inf\n",
      "[LightGBM] [Warning] No further splits with positive gain, best gain: -inf\n",
      "[LightGBM] [Warning] No further splits with positive gain, best gain: -inf\n",
      "[LightGBM] [Warning] No further splits with positive gain, best gain: -inf\n",
      "[LightGBM] [Warning] No further splits with positive gain, best gain: -inf\n",
      "[LightGBM] [Warning] No further splits with positive gain, best gain: -inf\n",
      "[LightGBM] [Warning] No further splits with positive gain, best gain: -inf\n",
      "[LightGBM] [Warning] No further splits with positive gain, best gain: -inf\n",
      "[LightGBM] [Warning] No further splits with positive gain, best gain: -inf\n",
      "[LightGBM] [Warning] No further splits with positive gain, best gain: -inf\n",
      "[LightGBM] [Warning] No further splits with positive gain, best gain: -inf\n",
      "[LightGBM] [Warning] No further splits with positive gain, best gain: -inf\n",
      "[LightGBM] [Warning] No further splits with positive gain, best gain: -inf\n",
      "[LightGBM] [Warning] No further splits with positive gain, best gain: -inf\n",
      "[LightGBM] [Warning] No further splits with positive gain, best gain: -inf\n",
      "[LightGBM] [Warning] No further splits with positive gain, best gain: -inf\n",
      "[LightGBM] [Warning] No further splits with positive gain, best gain: -inf\n",
      "[LightGBM] [Warning] No further splits with positive gain, best gain: -inf\n",
      "[LightGBM] [Warning] No further splits with positive gain, best gain: -inf\n",
      "[LightGBM] [Warning] No further splits with positive gain, best gain: -inf\n",
      "[LightGBM] [Warning] No further splits with positive gain, best gain: -inf\n",
      "[LightGBM] [Warning] No further splits with positive gain, best gain: -inf\n",
      "[LightGBM] [Warning] No further splits with positive gain, best gain: -inf\n",
      "[LightGBM] [Warning] No further splits with positive gain, best gain: -inf\n",
      "[LightGBM] [Warning] No further splits with positive gain, best gain: -inf\n",
      "[LightGBM] [Warning] No further splits with positive gain, best gain: -inf\n",
      "[LightGBM] [Warning] No further splits with positive gain, best gain: -inf\n",
      "[LightGBM] [Warning] No further splits with positive gain, best gain: -inf\n",
      "[LightGBM] [Warning] No further splits with positive gain, best gain: -inf\n",
      "[LightGBM] [Warning] No further splits with positive gain, best gain: -inf\n",
      "[LightGBM] [Warning] No further splits with positive gain, best gain: -inf\n",
      "[LightGBM] [Warning] No further splits with positive gain, best gain: -inf\n",
      "[LightGBM] [Warning] No further splits with positive gain, best gain: -inf\n",
      "[LightGBM] [Warning] No further splits with positive gain, best gain: -inf\n",
      "[LightGBM] [Warning] No further splits with positive gain, best gain: -inf\n",
      "[LightGBM] [Warning] No further splits with positive gain, best gain: -inf\n",
      "[LightGBM] [Warning] No further splits with positive gain, best gain: -inf\n",
      "[LightGBM] [Warning] No further splits with positive gain, best gain: -inf\n",
      "[LightGBM] [Warning] No further splits with positive gain, best gain: -inf\n",
      "[LightGBM] [Warning] No further splits with positive gain, best gain: -inf\n",
      "[LightGBM] [Warning] No further splits with positive gain, best gain: -inf\n",
      "[LightGBM] [Warning] No further splits with positive gain, best gain: -inf\n",
      "[LightGBM] [Warning] No further splits with positive gain, best gain: -inf\n",
      "[LightGBM] [Warning] No further splits with positive gain, best gain: -inf\n",
      "[LightGBM] [Warning] No further splits with positive gain, best gain: -inf\n",
      "[LightGBM] [Warning] No further splits with positive gain, best gain: -inf\n",
      "[LightGBM] [Warning] No further splits with positive gain, best gain: -inf\n",
      "[LightGBM] [Warning] No further splits with positive gain, best gain: -inf\n",
      "[LightGBM] [Warning] No further splits with positive gain, best gain: -inf\n",
      "[LightGBM] [Warning] No further splits with positive gain, best gain: -inf\n",
      "[LightGBM] [Warning] No further splits with positive gain, best gain: -inf\n",
      "[LightGBM] [Warning] No further splits with positive gain, best gain: -inf\n",
      "[LightGBM] [Warning] No further splits with positive gain, best gain: -inf\n",
      "[LightGBM] [Warning] No further splits with positive gain, best gain: -inf\n",
      "[LightGBM] [Warning] No further splits with positive gain, best gain: -inf\n",
      "[LightGBM] [Warning] No further splits with positive gain, best gain: -inf\n",
      "[LightGBM] [Warning] No further splits with positive gain, best gain: -inf\n",
      "[LightGBM] [Warning] No further splits with positive gain, best gain: -inf\n",
      "[LightGBM] [Warning] No further splits with positive gain, best gain: -inf\n",
      "[LightGBM] [Warning] No further splits with positive gain, best gain: -inf\n",
      "[LightGBM] [Warning] No further splits with positive gain, best gain: -inf\n",
      "[LightGBM] [Warning] No further splits with positive gain, best gain: -inf\n",
      "[LightGBM] [Warning] No further splits with positive gain, best gain: -inf\n",
      "[LightGBM] [Warning] No further splits with positive gain, best gain: -inf\n",
      "[LightGBM] [Warning] No further splits with positive gain, best gain: -inf\n",
      "[LightGBM] [Warning] No further splits with positive gain, best gain: -inf\n",
      "[LightGBM] [Warning] No further splits with positive gain, best gain: -inf\n",
      "[LightGBM] [Warning] No further splits with positive gain, best gain: -inf\n",
      "[LightGBM] [Warning] No further splits with positive gain, best gain: -inf\n",
      "[LightGBM] [Warning] No further splits with positive gain, best gain: -inf\n",
      "[LightGBM] [Warning] No further splits with positive gain, best gain: -inf\n",
      "[LightGBM] [Warning] No further splits with positive gain, best gain: -inf\n",
      "[LightGBM] [Warning] No further splits with positive gain, best gain: -inf\n",
      "[LightGBM] [Warning] No further splits with positive gain, best gain: -inf\n",
      "[LightGBM] [Warning] No further splits with positive gain, best gain: -inf\n",
      "[LightGBM] [Warning] No further splits with positive gain, best gain: -inf\n",
      "[LightGBM] [Warning] No further splits with positive gain, best gain: -inf\n",
      "[LightGBM] [Warning] No further splits with positive gain, best gain: -inf\n",
      "[LightGBM] [Warning] No further splits with positive gain, best gain: -inf\n",
      "[LightGBM] [Warning] No further splits with positive gain, best gain: -inf\n",
      "[LightGBM] [Warning] No further splits with positive gain, best gain: -inf\n",
      "[LightGBM] [Warning] No further splits with positive gain, best gain: -inf\n",
      "[LightGBM] [Warning] No further splits with positive gain, best gain: -inf\n",
      "[LightGBM] [Warning] No further splits with positive gain, best gain: -inf\n",
      "[LightGBM] [Warning] No further splits with positive gain, best gain: -inf\n",
      "[LightGBM] [Warning] No further splits with positive gain, best gain: -inf\n",
      "[LightGBM] [Warning] No further splits with positive gain, best gain: -inf\n",
      "[LightGBM] [Warning] No further splits with positive gain, best gain: -inf\n",
      "[LightGBM] [Warning] No further splits with positive gain, best gain: -inf\n",
      "[LightGBM] [Warning] No further splits with positive gain, best gain: -inf\n",
      "[LightGBM] [Warning] No further splits with positive gain, best gain: -inf\n",
      "[LightGBM] [Warning] No further splits with positive gain, best gain: -inf\n",
      "[LightGBM] [Warning] No further splits with positive gain, best gain: -inf\n",
      "[LightGBM] [Warning] No further splits with positive gain, best gain: -inf\n",
      "[LightGBM] [Warning] No further splits with positive gain, best gain: -inf\n",
      "[LightGBM] [Warning] No further splits with positive gain, best gain: -inf\n",
      "[LightGBM] [Warning] No further splits with positive gain, best gain: -inf\n",
      "[LightGBM] [Warning] No further splits with positive gain, best gain: -inf\n",
      "[LightGBM] [Warning] No further splits with positive gain, best gain: -inf\n",
      "[LightGBM] [Warning] No further splits with positive gain, best gain: -inf\n",
      "[LightGBM] [Warning] No further splits with positive gain, best gain: -inf\n",
      "[LightGBM] [Warning] No further splits with positive gain, best gain: -inf\n",
      "[LightGBM] [Warning] No further splits with positive gain, best gain: -inf\n",
      "[LightGBM] [Warning] No further splits with positive gain, best gain: -inf\n",
      "[LightGBM] [Warning] No further splits with positive gain, best gain: -inf\n",
      "[LightGBM] [Warning] No further splits with positive gain, best gain: -inf\n",
      "[LightGBM] [Warning] No further splits with positive gain, best gain: -inf\n",
      "[LightGBM] [Warning] No further splits with positive gain, best gain: -inf\n",
      "[LightGBM] [Warning] No further splits with positive gain, best gain: -inf\n",
      "[LightGBM] [Warning] No further splits with positive gain, best gain: -inf\n",
      "[LightGBM] [Warning] No further splits with positive gain, best gain: -inf\n",
      "[LightGBM] [Warning] No further splits with positive gain, best gain: -inf\n",
      "[LightGBM] [Warning] No further splits with positive gain, best gain: -inf\n",
      "[LightGBM] [Warning] No further splits with positive gain, best gain: -inf\n",
      "[LightGBM] [Warning] No further splits with positive gain, best gain: -inf\n",
      "[LightGBM] [Warning] No further splits with positive gain, best gain: -inf\n",
      "[LightGBM] [Warning] No further splits with positive gain, best gain: -inf\n",
      "[LightGBM] [Warning] No further splits with positive gain, best gain: -inf\n",
      "[LightGBM] [Warning] No further splits with positive gain, best gain: -inf\n",
      "[LightGBM] [Warning] No further splits with positive gain, best gain: -inf\n",
      "[LightGBM] [Warning] No further splits with positive gain, best gain: -inf\n",
      "[LightGBM] [Warning] No further splits with positive gain, best gain: -inf\n",
      "[LightGBM] [Warning] No further splits with positive gain, best gain: -inf\n",
      "[LightGBM] [Warning] No further splits with positive gain, best gain: -inf\n",
      "[LightGBM] [Warning] No further splits with positive gain, best gain: -inf\n",
      "[LightGBM] [Warning] No further splits with positive gain, best gain: -inf\n",
      "[LightGBM] [Warning] No further splits with positive gain, best gain: -inf\n",
      "[LightGBM] [Warning] No further splits with positive gain, best gain: -inf\n",
      "[LightGBM] [Warning] No further splits with positive gain, best gain: -inf\n",
      "[LightGBM] [Warning] No further splits with positive gain, best gain: -inf\n",
      "[LightGBM] [Warning] No further splits with positive gain, best gain: -inf\n",
      "[LightGBM] [Warning] No further splits with positive gain, best gain: -inf\n",
      "[LightGBM] [Warning] No further splits with positive gain, best gain: -inf\n",
      "[LightGBM] [Warning] No further splits with positive gain, best gain: -inf\n",
      "[LightGBM] [Warning] No further splits with positive gain, best gain: -inf\n",
      "[LightGBM] [Warning] No further splits with positive gain, best gain: -inf\n",
      "[LightGBM] [Warning] No further splits with positive gain, best gain: -inf\n",
      "[LightGBM] [Warning] No further splits with positive gain, best gain: -inf\n",
      "[LightGBM] [Warning] No further splits with positive gain, best gain: -inf\n",
      "[LightGBM] [Warning] No further splits with positive gain, best gain: -inf\n",
      "[LightGBM] [Warning] No further splits with positive gain, best gain: -inf\n",
      "[LightGBM] [Warning] No further splits with positive gain, best gain: -inf\n",
      "[LightGBM] [Warning] No further splits with positive gain, best gain: -inf\n",
      "[LightGBM] [Warning] No further splits with positive gain, best gain: -inf\n",
      "[LightGBM] [Warning] No further splits with positive gain, best gain: -inf\n",
      "[LightGBM] [Warning] No further splits with positive gain, best gain: -inf\n",
      "[LightGBM] [Warning] No further splits with positive gain, best gain: -inf\n",
      "[LightGBM] [Warning] No further splits with positive gain, best gain: -inf\n",
      "[LightGBM] [Warning] No further splits with positive gain, best gain: -inf\n",
      "[LightGBM] [Warning] No further splits with positive gain, best gain: -inf\n",
      "[LightGBM] [Warning] No further splits with positive gain, best gain: -inf\n",
      "[LightGBM] [Warning] No further splits with positive gain, best gain: -inf\n",
      "[LightGBM] [Warning] No further splits with positive gain, best gain: -inf\n",
      "[LightGBM] [Warning] No further splits with positive gain, best gain: -inf\n",
      "[LightGBM] [Warning] No further splits with positive gain, best gain: -inf\n",
      "[LightGBM] [Warning] No further splits with positive gain, best gain: -inf\n",
      "[LightGBM] [Warning] No further splits with positive gain, best gain: -inf\n",
      "[LightGBM] [Warning] No further splits with positive gain, best gain: -inf\n",
      "[LightGBM] [Warning] No further splits with positive gain, best gain: -inf\n",
      "[LightGBM] [Warning] No further splits with positive gain, best gain: -inf\n",
      "[LightGBM] [Warning] No further splits with positive gain, best gain: -inf\n",
      "[LightGBM] [Warning] No further splits with positive gain, best gain: -inf\n",
      "[LightGBM] [Warning] No further splits with positive gain, best gain: -inf\n",
      "[LightGBM] [Warning] No further splits with positive gain, best gain: -inf\n",
      "[LightGBM] [Warning] No further splits with positive gain, best gain: -inf\n",
      "[LightGBM] [Warning] No further splits with positive gain, best gain: -inf\n",
      "[LightGBM] [Warning] No further splits with positive gain, best gain: -inf\n",
      "[LightGBM] [Warning] No further splits with positive gain, best gain: -inf\n",
      "[LightGBM] [Warning] No further splits with positive gain, best gain: -inf\n",
      "[LightGBM] [Warning] No further splits with positive gain, best gain: -inf\n",
      "[LightGBM] [Warning] No further splits with positive gain, best gain: -inf\n",
      "[LightGBM] [Warning] No further splits with positive gain, best gain: -inf\n",
      "[LightGBM] [Warning] No further splits with positive gain, best gain: -inf\n",
      "[LightGBM] [Warning] No further splits with positive gain, best gain: -inf\n",
      "[LightGBM] [Warning] No further splits with positive gain, best gain: -inf\n",
      "[LightGBM] [Warning] No further splits with positive gain, best gain: -inf\n",
      "[LightGBM] [Warning] No further splits with positive gain, best gain: -inf\n",
      "[LightGBM] [Warning] No further splits with positive gain, best gain: -inf\n",
      "[LightGBM] [Warning] No further splits with positive gain, best gain: -inf\n",
      "[LightGBM] [Warning] No further splits with positive gain, best gain: -inf\n",
      "[LightGBM] [Warning] No further splits with positive gain, best gain: -inf\n",
      "[LightGBM] [Warning] No further splits with positive gain, best gain: -inf\n",
      "[LightGBM] [Warning] No further splits with positive gain, best gain: -inf\n",
      "[LightGBM] [Warning] No further splits with positive gain, best gain: -inf\n",
      "[LightGBM] [Warning] No further splits with positive gain, best gain: -inf\n",
      "[LightGBM] [Warning] No further splits with positive gain, best gain: -inf\n",
      "[LightGBM] [Warning] No further splits with positive gain, best gain: -inf\n",
      "[LightGBM] [Warning] No further splits with positive gain, best gain: -inf\n",
      "[LightGBM] [Warning] No further splits with positive gain, best gain: -inf\n",
      "[LightGBM] [Warning] No further splits with positive gain, best gain: -inf\n",
      "[LightGBM] [Warning] No further splits with positive gain, best gain: -inf\n",
      "[LightGBM] [Warning] No further splits with positive gain, best gain: -inf\n",
      "[LightGBM] [Warning] No further splits with positive gain, best gain: -inf\n",
      "[LightGBM] [Warning] No further splits with positive gain, best gain: -inf\n"
     ]
    }
   ],
   "source": [
    "import pickle\n",
    "import lightgbm as lgb\n",
    " #Class names for LGBM start at 0 so reassigning labels from 1,2,3,4 to 0,1,2,3\n",
    "d_train = lgb.Dataset(X_for_ML, label=y_train)\n",
    "# d_train = lgb.Dataset(A, label=y_train)\n",
    "# https://lightgbm.readthedocs.io/en/latest/Parameters.html\n",
    "lgbm_params = {'learning_rate':0.05, 'boosting_type':'dart',    \n",
    "              'objective':'multiclass',\n",
    "              'metric': 'multi_logloss',\n",
    "              'num_leaves':100,\n",
    "              'max_depth':10,\n",
    "              'num_class':4}  #no.of unique values in the target class not inclusive of the end value\n",
    "\n",
    "lgb_model = lgb.train(lgbm_params, d_train, 100) #50 iterations. Increase iterations for small learning rates\n",
    "# save the model to disk\n",
    "filename = 'C:/Users/Shraddha Pawar/Desktop/iqa_lgb_classifier.sav'\n",
    "pickle.dump(lgb_model, open(filename, 'wb'))\n"
   ]
  },
  {
   "cell_type": "markdown",
   "metadata": {},
   "source": [
    "# Predict on test data"
   ]
  },
  {
   "cell_type": "code",
   "execution_count": 45,
   "metadata": {},
   "outputs": [
    {
     "name": "stdout",
     "output_type": "stream",
     "text": [
      "Accuracy =  0.9183673469387755\n"
     ]
    }
   ],
   "source": [
    "#Predict on Test data\n",
    "#Extract features from test data and reshape, just like training data\n",
    "test_features = feature_extractor(x_test)\n",
    "test_features = np.expand_dims(test_features, axis=0)\n",
    "test_for_RF = np.reshape(test_features, (x_test.shape[0], -1))\n",
    "\n",
    "# test_features = np.expand_dims(B, axis=0)\n",
    "# test_for_RF = np.reshape(B, (x_test.shape[0], -1))\n",
    "\n",
    "#Predict on test\n",
    "test_prediction = lgb_model.predict(test_for_RF)\n",
    "test_prediction=np.argmax(test_prediction, axis=1)\n",
    "#Inverse le transform to get original label back. \n",
    "test_prediction = le.inverse_transform(test_prediction)\n",
    "\n",
    "#Print overall accuracy\n",
    "from sklearn import metrics\n",
    "print (\"Accuracy = \", metrics.accuracy_score(test_labels, test_prediction))"
   ]
  },
  {
   "cell_type": "markdown",
   "metadata": {},
   "source": [
    "# Classify unknown images "
   ]
  },
  {
   "cell_type": "code",
   "execution_count": 46,
   "metadata": {},
   "outputs": [
    {
     "ename": "ValueError",
     "evalue": "cannot reshape array of size 0 into shape (0,newaxis)",
     "output_type": "error",
     "traceback": [
      "\u001b[1;31m---------------------------------------------------------------------------\u001b[0m",
      "\u001b[1;31mValueError\u001b[0m                                Traceback (most recent call last)",
      "\u001b[1;32mC:\\Users\\SHRADD~1\\AppData\\Local\\Temp/ipykernel_24520/532033285.py\u001b[0m in \u001b[0;36m<module>\u001b[1;34m\u001b[0m\n\u001b[0;32m      3\u001b[0m \u001b[0munknown_features\u001b[0m \u001b[1;33m=\u001b[0m \u001b[0mfeature_extractor\u001b[0m\u001b[1;33m(\u001b[0m\u001b[0munknown_images\u001b[0m\u001b[1;33m)\u001b[0m\u001b[1;33m\u001b[0m\u001b[1;33m\u001b[0m\u001b[0m\n\u001b[0;32m      4\u001b[0m \u001b[0munknown_features\u001b[0m \u001b[1;33m=\u001b[0m \u001b[0mnp\u001b[0m\u001b[1;33m.\u001b[0m\u001b[0mexpand_dims\u001b[0m\u001b[1;33m(\u001b[0m\u001b[0munknown_features\u001b[0m\u001b[1;33m,\u001b[0m \u001b[0maxis\u001b[0m\u001b[1;33m=\u001b[0m\u001b[1;36m0\u001b[0m\u001b[1;33m)\u001b[0m\u001b[1;33m\u001b[0m\u001b[1;33m\u001b[0m\u001b[0m\n\u001b[1;32m----> 5\u001b[1;33m \u001b[0munknown_for_RF\u001b[0m \u001b[1;33m=\u001b[0m \u001b[0mnp\u001b[0m\u001b[1;33m.\u001b[0m\u001b[0mreshape\u001b[0m\u001b[1;33m(\u001b[0m\u001b[0munknown_features\u001b[0m \u001b[1;33m,\u001b[0m \u001b[1;33m(\u001b[0m\u001b[0munknown_images\u001b[0m\u001b[1;33m.\u001b[0m\u001b[0mshape\u001b[0m\u001b[1;33m[\u001b[0m\u001b[1;36m0\u001b[0m\u001b[1;33m]\u001b[0m\u001b[1;33m,\u001b[0m \u001b[1;33m-\u001b[0m\u001b[1;36m1\u001b[0m\u001b[1;33m)\u001b[0m\u001b[1;33m)\u001b[0m\u001b[1;33m\u001b[0m\u001b[1;33m\u001b[0m\u001b[0m\n\u001b[0m\u001b[0;32m      6\u001b[0m \u001b[1;33m\u001b[0m\u001b[0m\n\u001b[0;32m      7\u001b[0m \u001b[1;31m# test_features = np.expand_dims(B, axis=0)\u001b[0m\u001b[1;33m\u001b[0m\u001b[1;33m\u001b[0m\u001b[0m\n",
      "\u001b[1;32m<__array_function__ internals>\u001b[0m in \u001b[0;36mreshape\u001b[1;34m(*args, **kwargs)\u001b[0m\n",
      "\u001b[1;32mC:\\ProgramData\\Anaconda3\\lib\\site-packages\\numpy\\core\\fromnumeric.py\u001b[0m in \u001b[0;36mreshape\u001b[1;34m(a, newshape, order)\u001b[0m\n\u001b[0;32m    297\u001b[0m            [5, 6]])\n\u001b[0;32m    298\u001b[0m     \"\"\"\n\u001b[1;32m--> 299\u001b[1;33m     \u001b[1;32mreturn\u001b[0m \u001b[0m_wrapfunc\u001b[0m\u001b[1;33m(\u001b[0m\u001b[0ma\u001b[0m\u001b[1;33m,\u001b[0m \u001b[1;34m'reshape'\u001b[0m\u001b[1;33m,\u001b[0m \u001b[0mnewshape\u001b[0m\u001b[1;33m,\u001b[0m \u001b[0morder\u001b[0m\u001b[1;33m=\u001b[0m\u001b[0morder\u001b[0m\u001b[1;33m)\u001b[0m\u001b[1;33m\u001b[0m\u001b[1;33m\u001b[0m\u001b[0m\n\u001b[0m\u001b[0;32m    300\u001b[0m \u001b[1;33m\u001b[0m\u001b[0m\n\u001b[0;32m    301\u001b[0m \u001b[1;33m\u001b[0m\u001b[0m\n",
      "\u001b[1;32mC:\\ProgramData\\Anaconda3\\lib\\site-packages\\numpy\\core\\fromnumeric.py\u001b[0m in \u001b[0;36m_wrapfunc\u001b[1;34m(obj, method, *args, **kwds)\u001b[0m\n\u001b[0;32m     56\u001b[0m \u001b[1;33m\u001b[0m\u001b[0m\n\u001b[0;32m     57\u001b[0m     \u001b[1;32mtry\u001b[0m\u001b[1;33m:\u001b[0m\u001b[1;33m\u001b[0m\u001b[1;33m\u001b[0m\u001b[0m\n\u001b[1;32m---> 58\u001b[1;33m         \u001b[1;32mreturn\u001b[0m \u001b[0mbound\u001b[0m\u001b[1;33m(\u001b[0m\u001b[1;33m*\u001b[0m\u001b[0margs\u001b[0m\u001b[1;33m,\u001b[0m \u001b[1;33m**\u001b[0m\u001b[0mkwds\u001b[0m\u001b[1;33m)\u001b[0m\u001b[1;33m\u001b[0m\u001b[1;33m\u001b[0m\u001b[0m\n\u001b[0m\u001b[0;32m     59\u001b[0m     \u001b[1;32mexcept\u001b[0m \u001b[0mTypeError\u001b[0m\u001b[1;33m:\u001b[0m\u001b[1;33m\u001b[0m\u001b[1;33m\u001b[0m\u001b[0m\n\u001b[0;32m     60\u001b[0m         \u001b[1;31m# A TypeError occurs if the object does have such a method in its\u001b[0m\u001b[1;33m\u001b[0m\u001b[1;33m\u001b[0m\u001b[0m\n",
      "\u001b[1;31mValueError\u001b[0m: cannot reshape array of size 0 into shape (0,newaxis)"
     ]
    }
   ],
   "source": [
    "#Predict on Unknown data\n",
    "#Extract features from test data and reshape, just like training data\n",
    "unknown_features = feature_extractor(unknown_images)\n",
    "unknown_features = np.expand_dims(unknown_features, axis=0)\n",
    "unknown_for_RF = np.reshape(unknown_features , (unknown_images.shape[0], -1))\n",
    "\n",
    "# test_features = np.expand_dims(B, axis=0)\n",
    "# test_for_RF = np.reshape(B, (x_test.shape[0], -1))\n",
    "\n",
    "#classify unknown\n",
    "unknown_prediction = lgb_model.predict(unknown_for_RF)\n",
    "unknown_prediction=np.argmax(unknown_prediction, axis=1)\n",
    "#Inverse le transform to get original label back. \n",
    "unknown_prediction = le.inverse_transform(unknown_prediction)\n",
    "\n",
    "\n",
    "#Print overall accuracy\n",
    "#from sklearn import metrics\n",
    "#print (\"Accuracy = \", metrics.accuracy_score(test_labels, test_prediction))"
   ]
  },
  {
   "cell_type": "code",
   "execution_count": 21,
   "metadata": {},
   "outputs": [
    {
     "data": {
      "text/plain": [
       "39"
      ]
     },
     "execution_count": 21,
     "metadata": {},
     "output_type": "execute_result"
    }
   ],
   "source": [
    "len(unknown_prediction)"
   ]
  },
  {
   "cell_type": "code",
   "execution_count": 22,
   "metadata": {},
   "outputs": [],
   "source": [
    "import pandas as pd \n",
    "df = pd.DataFrame(unknown_prediction, columns = ['labels'])\n",
    "df.to_excel('C:/Users/Shraddha Pawar/Desktop/Classifications_newestt.xlsx')"
   ]
  },
  {
   "cell_type": "markdown",
   "metadata": {},
   "source": [
    "# predict on random image from test data"
   ]
  },
  {
   "cell_type": "code",
   "execution_count": 24,
   "metadata": {},
   "outputs": [
    {
     "data": {
      "text/plain": [
       "<matplotlib.image.AxesImage at 0x1911b584310>"
      ]
     },
     "execution_count": 24,
     "metadata": {},
     "output_type": "execute_result"
    },
    {
     "data": {
      "image/png": "[encoded data removed]",
      "text/plain": [
       "<Figure size 432x288 with 1 Axes>"
      ]
     },
     "metadata": {
      "needs_background": "light"
     },
     "output_type": "display_data"
    }
   ],
   "source": [
    "import random\n",
    "n=random.randint(0, x_test.shape[0]-1) #Select the index of image to be loaded for testing\n",
    "img = x_test[n]\n",
    "plt.imshow(img, cmap=\"gray\")"
   ]
  },
  {
   "cell_type": "code",
   "execution_count": 25,
   "metadata": {},
   "outputs": [
    {
     "data": {
      "text/plain": [
       "37"
      ]
     },
     "execution_count": 25,
     "metadata": {},
     "output_type": "execute_result"
    }
   ],
   "source": [
    "n"
   ]
  },
  {
   "cell_type": "code",
   "execution_count": 26,
   "metadata": {},
   "outputs": [
    {
     "name": "stdout",
     "output_type": "stream",
     "text": [
      "The prediction for this image is:  ['Poor']\n",
      "The actual label for this image is:  Poor\n"
     ]
    },
    {
     "name": "stderr",
     "output_type": "stream",
     "text": [
      "C:\\Users\\Shraddha Pawar\\anaconda3\\lib\\site-packages\\sklearn\\utils\\validation.py:63: DataConversionWarning: A column-vector y was passed when a 1d array was expected. Please change the shape of y to (n_samples, ), for example using ravel().\n",
      "  return f(*args, **kwargs)\n"
     ]
    }
   ],
   "source": [
    "#Extract features and reshape to right dimensions\n",
    "input_img = np.expand_dims(img, axis=0) #Expand dims so the input is (num images, x, y, c)\n",
    "input_img_features=feature_extractor(input_img)\n",
    "#input_img_features = input_img_features.drop(corr_features,axis=1)\n",
    "input_img_features = np.expand_dims(input_img_features, axis=0)\n",
    "input_img_for_RF = np.reshape(input_img_features, (input_img.shape[0], -1))\n",
    "#Predict\n",
    "img_prediction = lgb_model.predict(input_img_for_RF)\n",
    "img_prediction=np.argmax(img_prediction, axis=1)\n",
    "img_prediction = le.inverse_transform([img_prediction])  #Reverse the label encoder to original name\n",
    "print(\"The prediction for this image is: \", img_prediction)\n",
    "print(\"The actual label for this image is: \", test_labels[n])"
   ]
  },
  {
   "cell_type": "markdown",
   "metadata": {},
   "source": [
    "# SVM classifier"
   ]
  },
  {
   "cell_type": "code",
   "execution_count": 27,
   "metadata": {},
   "outputs": [
    {
     "data": {
      "text/plain": [
       "SVC(C=2, gamma='auto')"
      ]
     },
     "execution_count": 27,
     "metadata": {},
     "output_type": "execute_result"
    }
   ],
   "source": [
    "from sklearn import svm \n",
    "classifier = svm.SVC(kernel='rbf', gamma='auto', C=2)\n",
    "classifier.fit(X_for_ML, y_train)"
   ]
  },
  {
   "cell_type": "code",
   "execution_count": 28,
   "metadata": {},
   "outputs": [],
   "source": [
    "y_predict = classifier.predict(input_img_for_RF)"
   ]
  },
  {
   "cell_type": "code",
   "execution_count": 29,
   "metadata": {},
   "outputs": [
    {
     "name": "stdout",
     "output_type": "stream",
     "text": [
      "              precision    recall  f1-score   support\n",
      "\n",
      "        Good       1.00      0.86      0.92        28\n",
      "        Poor       0.84      1.00      0.91        21\n",
      "\n",
      "    accuracy                           0.92        49\n",
      "   macro avg       0.92      0.93      0.92        49\n",
      "weighted avg       0.93      0.92      0.92        49\n",
      "\n"
     ]
    }
   ],
   "source": [
    "from sklearn.metrics import classification_report, confusion_matrix, plot_confusion_matrix\n",
    "print(classification_report(test_labels, test_prediction))\n",
    "\n"
   ]
  },
  {
   "cell_type": "code",
   "execution_count": 30,
   "metadata": {},
   "outputs": [
    {
     "name": "stdout",
     "output_type": "stream",
     "text": [
      "[[24  4]\n",
      " [ 0 21]]\n"
     ]
    }
   ],
   "source": [
    "print(confusion_matrix(test_labels, test_prediction))"
   ]
  },
  {
   "cell_type": "code",
   "execution_count": null,
   "metadata": {},
   "outputs": [],
   "source": []
  },
  {
   "cell_type": "markdown",
   "metadata": {},
   "source": [
    "# Write images by reading path from excel sheet"
   ]
  },
  {
   "cell_type": "code",
   "execution_count": 23,
   "metadata": {},
   "outputs": [],
   "source": [
    "import xlrd\n",
    " \n",
    "loc = (\"C:/Users/Shraddha Pawar/Desktop/predicted.xlsx\")\n",
    " \n",
    "wb = xlrd.open_workbook(loc)\n",
    "sheet = wb.sheet_by_index(0)\n",
    " \n",
    "# For row 0 and column 0\n",
    "sheet.cell_value(0, 0)\n",
    " \n",
    "for i in range(sheet.nrows):   \n",
    "    A = sheet.cell_value(i, 1)\n",
    "    img = cv2.imread(A, 1)\n",
    "    if sheet.cell_value(i,2) == 'Poor':\n",
    "        cv2.imwrite(f\"C:/Users/Shraddha Pawar/Desktop/{i}.jpg\", img)\n",
    "\n",
    "    "
   ]
  },
  {
   "cell_type": "code",
   "execution_count": 31,
   "metadata": {},
   "outputs": [],
   "source": [
    "from sklearn.model_selection import cross_val_score\n",
    "from sklearn.model_selection import cross_val_predict\n",
    "from sklearn.metrics import roc_curve, roc_auc_score\n",
    "from sklearn.linear_model import LogisticRegression\n",
    "from sklearn.svm import SVC\n",
    "from sklearn.ensemble import RandomForestClassifier\n",
    "import numpy as np\n",
    "from sklearn.datasets import load_digits\n",
    "import matplotlib.pyplot as plt"
   ]
  },
  {
   "cell_type": "code",
   "execution_count": 32,
   "metadata": {},
   "outputs": [
    {
     "data": {
      "text/plain": [
       "1"
      ]
     },
     "execution_count": 32,
     "metadata": {},
     "output_type": "execute_result"
    }
   ],
   "source": [
    "len(input_img_for_RF)"
   ]
  },
  {
   "cell_type": "code",
   "execution_count": 33,
   "metadata": {},
   "outputs": [
    {
     "data": {
      "text/plain": [
       "0.8979591836734694"
      ]
     },
     "execution_count": 33,
     "metadata": {},
     "output_type": "execute_result"
    }
   ],
   "source": [
    "rf = RandomForestClassifier(n_estimators=40)\n",
    "rf.fit(X_for_ML, y_train)\n",
    "rf.score(test_for_RF , test_labels_encoded)"
   ]
  },
  {
   "cell_type": "code",
   "execution_count": 34,
   "metadata": {},
   "outputs": [
    {
     "name": "stdout",
     "output_type": "stream",
     "text": [
      "Accuracy: 0.73(+/- 0.30)\n"
     ]
    }
   ],
   "source": [
    "scores = cross_val_score(rf, X_for_ML, y_train, cv=10)\n",
    "print(\"Accuracy: %0.2f(+/- %0.2f)\" %(scores.mean(), scores.std()*2))"
   ]
  },
  {
   "cell_type": "code",
   "execution_count": 35,
   "metadata": {},
   "outputs": [
    {
     "data": {
      "text/plain": [
       "0.8979591836734694"
      ]
     },
     "execution_count": 35,
     "metadata": {},
     "output_type": "execute_result"
    }
   ],
   "source": [
    "predictions =rf.predict(test_for_RF)\n",
    "metrics.accuracy_score(test_labels_encoded, predictions)"
   ]
  },
  {
   "cell_type": "code",
   "execution_count": 36,
   "metadata": {},
   "outputs": [],
   "source": [
    "false_positive_rate, true_positive_rate, threshold = roc_curve(test_labels_encoded, predictions)"
   ]
  },
  {
   "cell_type": "code",
   "execution_count": 37,
   "metadata": {},
   "outputs": [],
   "source": [
    "A = roc_auc_score(test_labels_encoded, predictions)"
   ]
  },
  {
   "cell_type": "code",
   "execution_count": 38,
   "metadata": {},
   "outputs": [],
   "source": [
    "r_probs = [0 for _ in range(len(test_labels_encoded))]\n",
    "rf_probs = rf.predict_proba(test_for_RF)"
   ]
  },
  {
   "cell_type": "code",
   "execution_count": 39,
   "metadata": {},
   "outputs": [],
   "source": [
    "rf_probs = rf_probs[:, 1]"
   ]
  },
  {
   "cell_type": "code",
   "execution_count": 40,
   "metadata": {},
   "outputs": [],
   "source": [
    "r_auc = roc_auc_score(test_labels_encoded, r_probs)\n",
    "rf_auc = roc_auc_score(test_labels_encoded, rf_probs)"
   ]
  },
  {
   "cell_type": "code",
   "execution_count": 41,
   "metadata": {},
   "outputs": [
    {
     "name": "stdout",
     "output_type": "stream",
     "text": [
      "Random (chance) Prediction: AUROC = 0.500\n",
      "Random Forest: AUROC = 0.957\n"
     ]
    }
   ],
   "source": [
    "print('Random (chance) Prediction: AUROC = %.3f' % (r_auc))\n",
    "print('Random Forest: AUROC = %.3f' % (rf_auc))"
   ]
  },
  {
   "cell_type": "code",
   "execution_count": 42,
   "metadata": {},
   "outputs": [],
   "source": [
    "r_fpr, r_tpr, _ = roc_curve(test_labels_encoded, r_probs)\n",
    "rf_fpr, rf_tpr, _ = roc_curve(test_labels_encoded, rf_probs)"
   ]
  },
  {
   "cell_type": "code",
   "execution_count": 43,
   "metadata": {},
   "outputs": [
    {
     "data": {
      "image/png": "[encoded data removed]",
      "text/plain": [
       "<Figure size 432x288 with 1 Axes>"
      ]
     },
     "metadata": {
      "needs_background": "light"
     },
     "output_type": "display_data"
    }
   ],
   "source": [
    "plt.plot(r_fpr, r_tpr, linestyle='--', label='Random prediction (AUROC = %0.3f)' % r_auc)\n",
    "plt.plot(rf_fpr, rf_tpr, marker='.', label='Random Forest (AUROC = %0.3f)' % rf_auc)\n",
    "\n",
    "# Title\n",
    "plt.title('ROC Plot')\n",
    "# Axis labels\n",
    "plt.xlabel('False Positive Rate')\n",
    "plt.ylabel('True Positive Rate')\n",
    "# Show legend\n",
    "plt.legend() # \n",
    "# Show plot\n",
    "plt.show()"
   ]
  },
  {
   "cell_type": "code",
   "execution_count": 44,
   "metadata": {},
   "outputs": [
    {
     "data": {
      "text/plain": [
       "0.8367346938775511"
      ]
     },
     "execution_count": 44,
     "metadata": {},
     "output_type": "execute_result"
    }
   ],
   "source": [
    "lr = LogisticRegression(solver='liblinear',multi_class='ovr')\n",
    "lr.fit(X_for_ML, y_train)\n",
    "lr.score(test_for_RF , test_labels_encoded)"
   ]
  },
  {
   "cell_type": "markdown",
   "metadata": {},
   "source": [
    "# Load saved ML model "
   ]
  },
  {
   "cell_type": "code",
   "execution_count": 2,
   "metadata": {},
   "outputs": [],
   "source": [
    "import pickle\n",
    "import lightgbm as lgb\n",
    "loaded_model = pickle.load(open('C:/Users/Shraddha Pawar/Desktop/iqa_lgb_classifier.sav', 'rb'))\n"
   ]
  },
  {
   "cell_type": "code",
   "execution_count": null,
   "metadata": {},
   "outputs": [],
   "source": [
    "prediction_RF = loaded_model.predict(X_test_features)"
   ]
  }
 ],
 "metadata": {
  "kernelspec": {
   "display_name": "Python 3 (ipykernel)",
   "language": "python",
   "name": "python3"
  },
  "language_info": {
   "codemirror_mode": {
    "name": "ipython",
    "version": 3
   },
   "file_extension": ".py",
   "mimetype": "text/x-python",
   "name": "python",
   "nbconvert_exporter": "python",
   "pygments_lexer": "ipython3",
   "version": "3.9.7"
  }
 },
 "nbformat": 4,
 "nbformat_minor": 4
}
